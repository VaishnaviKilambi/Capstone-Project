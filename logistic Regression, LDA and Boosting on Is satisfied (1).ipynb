{
 "cells": [
  {
   "cell_type": "code",
   "execution_count": 1,
   "id": "f9dadb9c",
   "metadata": {},
   "outputs": [],
   "source": [
    "import pandas as pd\n",
    "import numpy as np"
   ]
  },
  {
   "cell_type": "code",
   "execution_count": 2,
   "id": "ef24e7e9",
   "metadata": {},
   "outputs": [
    {
     "name": "stdout",
     "output_type": "stream",
     "text": [
      "<class 'pandas.core.frame.DataFrame'>\n",
      "RangeIndex: 1000000 entries, 0 to 999999\n",
      "Data columns (total 22 columns):\n",
      " #   Column                  Non-Null Count    Dtype  \n",
      "---  ------                  --------------    -----  \n",
      " 0   Unnamed: 0.2            1000000 non-null  int64  \n",
      " 1   Unnamed: 0.1            1000000 non-null  int64  \n",
      " 2   Unnamed: 0              1000000 non-null  int64  \n",
      " 3   Unnamed: 0_x            1000000 non-null  int64  \n",
      " 4   day                     1000000 non-null  int64  \n",
      " 5   order_id                1000000 non-null  int64  \n",
      " 6   item_det_info           1000000 non-null  object \n",
      " 7   pay_timestamp           1000000 non-null  object \n",
      " 8   buyer_id                1000000 non-null  int64  \n",
      " 9   promise_speed           235397 non-null   float64\n",
      " 10  if_cainiao              1000000 non-null  int64  \n",
      " 11  merchant_id             1000000 non-null  int64  \n",
      " 12  Logistics_review_score  353537 non-null   float64\n",
      " 13  Unnamed: 0_y            1000000 non-null  int64  \n",
      " 14  order_date              1000000 non-null  int64  \n",
      " 15  logistic_order_id       1000000 non-null  int64  \n",
      " 16  action                  1000000 non-null  object \n",
      " 17  facility_id             726667 non-null   float64\n",
      " 18  facility_type           719472 non-null   float64\n",
      " 19  city_id                 551834 non-null   float64\n",
      " 20  logistic_company_id     1000000 non-null  int64  \n",
      " 21  timestamp               1000000 non-null  object \n",
      "dtypes: float64(5), int64(13), object(4)\n",
      "memory usage: 167.8+ MB\n",
      "None\n"
     ]
    }
   ],
   "source": [
    "subset_data1 = pd.read_csv('subset_1.csv',chunksize = 1000000)\n",
    "for data in subset_data1:\n",
    "    print(data.info())\n",
    "    break"
   ]
  },
  {
   "cell_type": "code",
   "execution_count": 3,
   "id": "b5a8cf7e",
   "metadata": {},
   "outputs": [
    {
     "name": "stdout",
     "output_type": "stream",
     "text": [
      "<class 'pandas.core.frame.DataFrame'>\n",
      "RangeIndex: 1000000 entries, 0 to 999999\n",
      "Data columns (total 22 columns):\n",
      " #   Column                  Non-Null Count    Dtype  \n",
      "---  ------                  --------------    -----  \n",
      " 0   Unnamed: 0.2            1000000 non-null  int64  \n",
      " 1   Unnamed: 0.1            1000000 non-null  int64  \n",
      " 2   Unnamed: 0              1000000 non-null  int64  \n",
      " 3   Unnamed: 0_x            1000000 non-null  int64  \n",
      " 4   day                     1000000 non-null  int64  \n",
      " 5   order_id                1000000 non-null  int64  \n",
      " 6   item_det_info           1000000 non-null  object \n",
      " 7   pay_timestamp           1000000 non-null  object \n",
      " 8   buyer_id                1000000 non-null  int64  \n",
      " 9   promise_speed           235397 non-null   float64\n",
      " 10  if_cainiao              1000000 non-null  int64  \n",
      " 11  merchant_id             1000000 non-null  int64  \n",
      " 12  Logistics_review_score  353537 non-null   float64\n",
      " 13  Unnamed: 0_y            1000000 non-null  int64  \n",
      " 14  order_date              1000000 non-null  int64  \n",
      " 15  logistic_order_id       1000000 non-null  int64  \n",
      " 16  action                  1000000 non-null  object \n",
      " 17  facility_id             726667 non-null   float64\n",
      " 18  facility_type           719472 non-null   float64\n",
      " 19  city_id                 551834 non-null   float64\n",
      " 20  logistic_company_id     1000000 non-null  int64  \n",
      " 21  timestamp               1000000 non-null  object \n",
      "dtypes: float64(5), int64(13), object(4)\n",
      "memory usage: 167.8+ MB\n"
     ]
    }
   ],
   "source": [
    "data_sub1 = data.drop(data.columns[[0, 1, 2, 3, 13]], axis=1)\n",
    "data.info()"
   ]
  },
  {
   "cell_type": "code",
   "execution_count": 4,
   "id": "0de0a0f3",
   "metadata": {},
   "outputs": [
    {
     "data": {
      "text/html": [
       "<div>\n",
       "<style scoped>\n",
       "    .dataframe tbody tr th:only-of-type {\n",
       "        vertical-align: middle;\n",
       "    }\n",
       "\n",
       "    .dataframe tbody tr th {\n",
       "        vertical-align: top;\n",
       "    }\n",
       "\n",
       "    .dataframe thead th {\n",
       "        text-align: right;\n",
       "    }\n",
       "</style>\n",
       "<table border=\"1\" class=\"dataframe\">\n",
       "  <thead>\n",
       "    <tr style=\"text-align: right;\">\n",
       "      <th></th>\n",
       "      <th>day</th>\n",
       "      <th>order_id</th>\n",
       "      <th>item_det_info</th>\n",
       "      <th>pay_timestamp</th>\n",
       "      <th>buyer_id</th>\n",
       "      <th>promise_speed</th>\n",
       "      <th>if_cainiao</th>\n",
       "      <th>merchant_id</th>\n",
       "      <th>Logistics_review_score</th>\n",
       "      <th>order_date</th>\n",
       "      <th>logistic_order_id</th>\n",
       "      <th>action</th>\n",
       "      <th>facility_id</th>\n",
       "      <th>facility_type</th>\n",
       "      <th>city_id</th>\n",
       "      <th>logistic_company_id</th>\n",
       "      <th>timestamp</th>\n",
       "    </tr>\n",
       "  </thead>\n",
       "  <tbody>\n",
       "    <tr>\n",
       "      <th>0</th>\n",
       "      <td>20170103</td>\n",
       "      <td>23</td>\n",
       "      <td>220866:1:252.16</td>\n",
       "      <td>2017-01-03 19:00:00</td>\n",
       "      <td>35835925</td>\n",
       "      <td>2.0</td>\n",
       "      <td>1</td>\n",
       "      <td>78</td>\n",
       "      <td>NaN</td>\n",
       "      <td>20170103</td>\n",
       "      <td>47522654</td>\n",
       "      <td>SIGNED</td>\n",
       "      <td>26828.0</td>\n",
       "      <td>1.0</td>\n",
       "      <td>234.0</td>\n",
       "      <td>149</td>\n",
       "      <td>2017-01-04 10:28:00</td>\n",
       "    </tr>\n",
       "    <tr>\n",
       "      <th>1</th>\n",
       "      <td>20170103</td>\n",
       "      <td>23</td>\n",
       "      <td>220866:1:252.16</td>\n",
       "      <td>2017-01-03 19:00:00</td>\n",
       "      <td>35835925</td>\n",
       "      <td>2.0</td>\n",
       "      <td>1</td>\n",
       "      <td>78</td>\n",
       "      <td>NaN</td>\n",
       "      <td>20170103</td>\n",
       "      <td>47522654</td>\n",
       "      <td>CONSIGN</td>\n",
       "      <td>NaN</td>\n",
       "      <td>NaN</td>\n",
       "      <td>NaN</td>\n",
       "      <td>149</td>\n",
       "      <td>2017-01-03 20:42:00</td>\n",
       "    </tr>\n",
       "    <tr>\n",
       "      <th>2</th>\n",
       "      <td>20170103</td>\n",
       "      <td>23</td>\n",
       "      <td>220866:1:252.16</td>\n",
       "      <td>2017-01-03 19:00:00</td>\n",
       "      <td>35835925</td>\n",
       "      <td>2.0</td>\n",
       "      <td>1</td>\n",
       "      <td>78</td>\n",
       "      <td>NaN</td>\n",
       "      <td>20170103</td>\n",
       "      <td>47522654</td>\n",
       "      <td>GOT</td>\n",
       "      <td>80222.0</td>\n",
       "      <td>2.0</td>\n",
       "      <td>234.0</td>\n",
       "      <td>149</td>\n",
       "      <td>2017-01-03 22:52:00</td>\n",
       "    </tr>\n",
       "    <tr>\n",
       "      <th>3</th>\n",
       "      <td>20170103</td>\n",
       "      <td>23</td>\n",
       "      <td>220866:1:252.16</td>\n",
       "      <td>2017-01-03 19:00:00</td>\n",
       "      <td>35835925</td>\n",
       "      <td>2.0</td>\n",
       "      <td>1</td>\n",
       "      <td>78</td>\n",
       "      <td>NaN</td>\n",
       "      <td>20170103</td>\n",
       "      <td>47522654</td>\n",
       "      <td>CONSIGN</td>\n",
       "      <td>NaN</td>\n",
       "      <td>NaN</td>\n",
       "      <td>NaN</td>\n",
       "      <td>149</td>\n",
       "      <td>2017-01-03 20:42:00</td>\n",
       "    </tr>\n",
       "    <tr>\n",
       "      <th>4</th>\n",
       "      <td>20170103</td>\n",
       "      <td>23</td>\n",
       "      <td>220866:1:252.16</td>\n",
       "      <td>2017-01-03 19:00:00</td>\n",
       "      <td>35835925</td>\n",
       "      <td>2.0</td>\n",
       "      <td>1</td>\n",
       "      <td>78</td>\n",
       "      <td>NaN</td>\n",
       "      <td>20170103</td>\n",
       "      <td>47522654</td>\n",
       "      <td>TRADE_SUCCESS</td>\n",
       "      <td>NaN</td>\n",
       "      <td>NaN</td>\n",
       "      <td>NaN</td>\n",
       "      <td>149</td>\n",
       "      <td>2017-01-07 16:38:00</td>\n",
       "    </tr>\n",
       "  </tbody>\n",
       "</table>\n",
       "</div>"
      ],
      "text/plain": [
       "        day  order_id    item_det_info        pay_timestamp  buyer_id  \\\n",
       "0  20170103        23  220866:1:252.16  2017-01-03 19:00:00  35835925   \n",
       "1  20170103        23  220866:1:252.16  2017-01-03 19:00:00  35835925   \n",
       "2  20170103        23  220866:1:252.16  2017-01-03 19:00:00  35835925   \n",
       "3  20170103        23  220866:1:252.16  2017-01-03 19:00:00  35835925   \n",
       "4  20170103        23  220866:1:252.16  2017-01-03 19:00:00  35835925   \n",
       "\n",
       "   promise_speed  if_cainiao  merchant_id  Logistics_review_score  order_date  \\\n",
       "0            2.0           1           78                     NaN    20170103   \n",
       "1            2.0           1           78                     NaN    20170103   \n",
       "2            2.0           1           78                     NaN    20170103   \n",
       "3            2.0           1           78                     NaN    20170103   \n",
       "4            2.0           1           78                     NaN    20170103   \n",
       "\n",
       "   logistic_order_id         action  facility_id  facility_type  city_id  \\\n",
       "0           47522654         SIGNED      26828.0            1.0    234.0   \n",
       "1           47522654        CONSIGN          NaN            NaN      NaN   \n",
       "2           47522654            GOT      80222.0            2.0    234.0   \n",
       "3           47522654        CONSIGN          NaN            NaN      NaN   \n",
       "4           47522654  TRADE_SUCCESS          NaN            NaN      NaN   \n",
       "\n",
       "   logistic_company_id            timestamp  \n",
       "0                  149  2017-01-04 10:28:00  \n",
       "1                  149  2017-01-03 20:42:00  \n",
       "2                  149  2017-01-03 22:52:00  \n",
       "3                  149  2017-01-03 20:42:00  \n",
       "4                  149  2017-01-07 16:38:00  "
      ]
     },
     "execution_count": 4,
     "metadata": {},
     "output_type": "execute_result"
    }
   ],
   "source": [
    "data_sub1.head()"
   ]
  },
  {
   "cell_type": "code",
   "execution_count": 5,
   "id": "35932c4e",
   "metadata": {},
   "outputs": [],
   "source": [
    "import datetime"
   ]
  },
  {
   "cell_type": "code",
   "execution_count": 6,
   "id": "59c08100",
   "metadata": {},
   "outputs": [],
   "source": [
    "for index, row in data.iterrows():\n",
    "    total_minutes = 0\n",
    "    if row['action'] == 'SIGNED':\n",
    "        order_time = datetime.datetime.strptime(row['pay_timestamp'], '%Y-%m-%d %H:%M:%S')\n",
    "        sign_time = datetime.datetime.strptime(row['timestamp'], '%Y-%m-%d %H:%M:%S')\n",
    "        diff = sign_time - order_time\n",
    "        total_minutes += diff.total_seconds() / 60\n",
    "        data.loc[index, 'shipping_time'] = total_minutes"
   ]
  },
  {
   "cell_type": "code",
   "execution_count": 7,
   "id": "c54d28e6",
   "metadata": {},
   "outputs": [],
   "source": [
    "data1 = data\n",
    "data1['shipping_time'] = data1.groupby('order_id')['shipping_time'].fillna(method='ffill')"
   ]
  },
  {
   "cell_type": "code",
   "execution_count": 8,
   "id": "74eec956",
   "metadata": {},
   "outputs": [],
   "source": [
    "data = data1\n",
    "data['time_difference'] = data['promise_speed']*24*60 - data['shipping_time']"
   ]
  },
  {
   "cell_type": "code",
   "execution_count": 9,
   "id": "8ae2d351",
   "metadata": {},
   "outputs": [
    {
     "name": "stdout",
     "output_type": "stream",
     "text": [
      "<class 'pandas.core.frame.DataFrame'>\n",
      "RangeIndex: 1000000 entries, 0 to 999999\n",
      "Data columns (total 7 columns):\n",
      " #   Column                  Non-Null Count    Dtype  \n",
      "---  ------                  --------------    -----  \n",
      " 0   order_id                1000000 non-null  int64  \n",
      " 1   promise_speed           235397 non-null   float64\n",
      " 2   shipping_time           556321 non-null   float64\n",
      " 3   action                  1000000 non-null  object \n",
      " 4   if_cainiao              1000000 non-null  int64  \n",
      " 5   time_difference         136313 non-null   float64\n",
      " 6   Logistics_review_score  353537 non-null   float64\n",
      "dtypes: float64(4), int64(2), object(1)\n",
      "memory usage: 53.4+ MB\n"
     ]
    }
   ],
   "source": [
    "data1=data[['order_id','promise_speed','shipping_time','action','if_cainiao','time_difference','Logistics_review_score']]\n",
    "data1.info()"
   ]
  },
  {
   "cell_type": "code",
   "execution_count": 10,
   "id": "7aff5038",
   "metadata": {},
   "outputs": [
    {
     "name": "stderr",
     "output_type": "stream",
     "text": [
      "/var/folders/0r/_568dtlx1ksbtyyp1djps8j80000gn/T/ipykernel_73930/4111824734.py:1: SettingWithCopyWarning: \n",
      "A value is trying to be set on a copy of a slice from a DataFrame.\n",
      "Try using .loc[row_indexer,col_indexer] = value instead\n",
      "\n",
      "See the caveats in the documentation: https://pandas.pydata.org/pandas-docs/stable/user_guide/indexing.html#returning-a-view-versus-a-copy\n",
      "  data1['isSatisfied']=[1 if i>=3.5 else 0 for i in data1['Logistics_review_score']]\n"
     ]
    }
   ],
   "source": [
    "data1['isSatisfied']=[1 if i>=3.5 else 0 for i in data1['Logistics_review_score']]"
   ]
  },
  {
   "cell_type": "code",
   "execution_count": 11,
   "id": "a70e22fa",
   "metadata": {},
   "outputs": [
    {
     "data": {
      "text/html": [
       "<div>\n",
       "<style scoped>\n",
       "    .dataframe tbody tr th:only-of-type {\n",
       "        vertical-align: middle;\n",
       "    }\n",
       "\n",
       "    .dataframe tbody tr th {\n",
       "        vertical-align: top;\n",
       "    }\n",
       "\n",
       "    .dataframe thead th {\n",
       "        text-align: right;\n",
       "    }\n",
       "</style>\n",
       "<table border=\"1\" class=\"dataframe\">\n",
       "  <thead>\n",
       "    <tr style=\"text-align: right;\">\n",
       "      <th></th>\n",
       "      <th>order_id</th>\n",
       "      <th>promise_speed</th>\n",
       "      <th>shipping_time</th>\n",
       "      <th>action</th>\n",
       "      <th>if_cainiao</th>\n",
       "      <th>time_difference</th>\n",
       "      <th>Logistics_review_score</th>\n",
       "      <th>isSatisfied</th>\n",
       "    </tr>\n",
       "  </thead>\n",
       "  <tbody>\n",
       "    <tr>\n",
       "      <th>0</th>\n",
       "      <td>23</td>\n",
       "      <td>2.0</td>\n",
       "      <td>928.0</td>\n",
       "      <td>SIGNED</td>\n",
       "      <td>1</td>\n",
       "      <td>1952.0</td>\n",
       "      <td>NaN</td>\n",
       "      <td>0</td>\n",
       "    </tr>\n",
       "    <tr>\n",
       "      <th>1</th>\n",
       "      <td>23</td>\n",
       "      <td>2.0</td>\n",
       "      <td>928.0</td>\n",
       "      <td>CONSIGN</td>\n",
       "      <td>1</td>\n",
       "      <td>1952.0</td>\n",
       "      <td>NaN</td>\n",
       "      <td>0</td>\n",
       "    </tr>\n",
       "    <tr>\n",
       "      <th>2</th>\n",
       "      <td>23</td>\n",
       "      <td>2.0</td>\n",
       "      <td>928.0</td>\n",
       "      <td>GOT</td>\n",
       "      <td>1</td>\n",
       "      <td>1952.0</td>\n",
       "      <td>NaN</td>\n",
       "      <td>0</td>\n",
       "    </tr>\n",
       "    <tr>\n",
       "      <th>3</th>\n",
       "      <td>23</td>\n",
       "      <td>2.0</td>\n",
       "      <td>928.0</td>\n",
       "      <td>CONSIGN</td>\n",
       "      <td>1</td>\n",
       "      <td>1952.0</td>\n",
       "      <td>NaN</td>\n",
       "      <td>0</td>\n",
       "    </tr>\n",
       "    <tr>\n",
       "      <th>4</th>\n",
       "      <td>23</td>\n",
       "      <td>2.0</td>\n",
       "      <td>928.0</td>\n",
       "      <td>TRADE_SUCCESS</td>\n",
       "      <td>1</td>\n",
       "      <td>1952.0</td>\n",
       "      <td>NaN</td>\n",
       "      <td>0</td>\n",
       "    </tr>\n",
       "  </tbody>\n",
       "</table>\n",
       "</div>"
      ],
      "text/plain": [
       "   order_id  promise_speed  shipping_time         action  if_cainiao  \\\n",
       "0        23            2.0          928.0         SIGNED           1   \n",
       "1        23            2.0          928.0        CONSIGN           1   \n",
       "2        23            2.0          928.0            GOT           1   \n",
       "3        23            2.0          928.0        CONSIGN           1   \n",
       "4        23            2.0          928.0  TRADE_SUCCESS           1   \n",
       "\n",
       "   time_difference  Logistics_review_score  isSatisfied  \n",
       "0           1952.0                     NaN            0  \n",
       "1           1952.0                     NaN            0  \n",
       "2           1952.0                     NaN            0  \n",
       "3           1952.0                     NaN            0  \n",
       "4           1952.0                     NaN            0  "
      ]
     },
     "execution_count": 11,
     "metadata": {},
     "output_type": "execute_result"
    }
   ],
   "source": [
    "data1.head()"
   ]
  },
  {
   "cell_type": "code",
   "execution_count": 12,
   "id": "e51e92dc",
   "metadata": {
    "scrolled": true
   },
   "outputs": [
    {
     "data": {
      "text/plain": [
       "<AxesSubplot:>"
      ]
     },
     "execution_count": 12,
     "metadata": {},
     "output_type": "execute_result"
    },
    {
     "data": {
      "image/png": "[encoded data removed]",
      "text/plain": [
       "<Figure size 640x480 with 1 Axes>"
      ]
     },
     "metadata": {},
     "output_type": "display_data"
    }
   ],
   "source": [
    "fc = data1['isSatisfied'].value_counts(normalize=True).to_frame()\n",
    "fc.plot.bar()"
   ]
  },
  {
   "cell_type": "code",
   "execution_count": 13,
   "id": "03121948",
   "metadata": {},
   "outputs": [
    {
     "data": {
      "text/html": [
       "<div>\n",
       "<style scoped>\n",
       "    .dataframe tbody tr th:only-of-type {\n",
       "        vertical-align: middle;\n",
       "    }\n",
       "\n",
       "    .dataframe tbody tr th {\n",
       "        vertical-align: top;\n",
       "    }\n",
       "\n",
       "    .dataframe thead th {\n",
       "        text-align: right;\n",
       "    }\n",
       "</style>\n",
       "<table border=\"1\" class=\"dataframe\">\n",
       "  <thead>\n",
       "    <tr style=\"text-align: right;\">\n",
       "      <th></th>\n",
       "      <th>order_id</th>\n",
       "      <th>promise_speed</th>\n",
       "      <th>shipping_time</th>\n",
       "      <th>action</th>\n",
       "      <th>if_cainiao</th>\n",
       "      <th>time_difference</th>\n",
       "      <th>Logistics_review_score</th>\n",
       "      <th>isSatisfied</th>\n",
       "    </tr>\n",
       "  </thead>\n",
       "  <tbody>\n",
       "    <tr>\n",
       "      <th>0</th>\n",
       "      <td>23</td>\n",
       "      <td>2.0</td>\n",
       "      <td>928.0</td>\n",
       "      <td>SIGNED</td>\n",
       "      <td>1</td>\n",
       "      <td>1952.0</td>\n",
       "      <td>NaN</td>\n",
       "      <td>0</td>\n",
       "    </tr>\n",
       "    <tr>\n",
       "      <th>1</th>\n",
       "      <td>23</td>\n",
       "      <td>2.0</td>\n",
       "      <td>928.0</td>\n",
       "      <td>CONSIGN</td>\n",
       "      <td>1</td>\n",
       "      <td>1952.0</td>\n",
       "      <td>NaN</td>\n",
       "      <td>0</td>\n",
       "    </tr>\n",
       "    <tr>\n",
       "      <th>2</th>\n",
       "      <td>23</td>\n",
       "      <td>2.0</td>\n",
       "      <td>928.0</td>\n",
       "      <td>GOT</td>\n",
       "      <td>1</td>\n",
       "      <td>1952.0</td>\n",
       "      <td>NaN</td>\n",
       "      <td>0</td>\n",
       "    </tr>\n",
       "    <tr>\n",
       "      <th>3</th>\n",
       "      <td>23</td>\n",
       "      <td>2.0</td>\n",
       "      <td>928.0</td>\n",
       "      <td>CONSIGN</td>\n",
       "      <td>1</td>\n",
       "      <td>1952.0</td>\n",
       "      <td>NaN</td>\n",
       "      <td>0</td>\n",
       "    </tr>\n",
       "    <tr>\n",
       "      <th>4</th>\n",
       "      <td>23</td>\n",
       "      <td>2.0</td>\n",
       "      <td>928.0</td>\n",
       "      <td>TRADE_SUCCESS</td>\n",
       "      <td>1</td>\n",
       "      <td>1952.0</td>\n",
       "      <td>NaN</td>\n",
       "      <td>0</td>\n",
       "    </tr>\n",
       "    <tr>\n",
       "      <th>...</th>\n",
       "      <td>...</td>\n",
       "      <td>...</td>\n",
       "      <td>...</td>\n",
       "      <td>...</td>\n",
       "      <td>...</td>\n",
       "      <td>...</td>\n",
       "      <td>...</td>\n",
       "      <td>...</td>\n",
       "    </tr>\n",
       "    <tr>\n",
       "      <th>999995</th>\n",
       "      <td>840725</td>\n",
       "      <td>0.0</td>\n",
       "      <td>21785.0</td>\n",
       "      <td>DEPARTURE</td>\n",
       "      <td>0</td>\n",
       "      <td>-8881.0</td>\n",
       "      <td>5.0</td>\n",
       "      <td>0</td>\n",
       "    </tr>\n",
       "    <tr>\n",
       "      <th>999996</th>\n",
       "      <td>840725</td>\n",
       "      <td>0.0</td>\n",
       "      <td>21785.0</td>\n",
       "      <td>ARRIVAL</td>\n",
       "      <td>0</td>\n",
       "      <td>-8881.0</td>\n",
       "      <td>5.0</td>\n",
       "      <td>0</td>\n",
       "    </tr>\n",
       "    <tr>\n",
       "      <th>999997</th>\n",
       "      <td>840725</td>\n",
       "      <td>0.0</td>\n",
       "      <td>21785.0</td>\n",
       "      <td>DEPARTURE</td>\n",
       "      <td>0</td>\n",
       "      <td>-8881.0</td>\n",
       "      <td>5.0</td>\n",
       "      <td>0</td>\n",
       "    </tr>\n",
       "    <tr>\n",
       "      <th>999998</th>\n",
       "      <td>840725</td>\n",
       "      <td>0.0</td>\n",
       "      <td>21785.0</td>\n",
       "      <td>DEPARTURE</td>\n",
       "      <td>0</td>\n",
       "      <td>-8881.0</td>\n",
       "      <td>5.0</td>\n",
       "      <td>0</td>\n",
       "    </tr>\n",
       "    <tr>\n",
       "      <th>999999</th>\n",
       "      <td>840725</td>\n",
       "      <td>0.0</td>\n",
       "      <td>21785.0</td>\n",
       "      <td>CONSIGN</td>\n",
       "      <td>0</td>\n",
       "      <td>-8881.0</td>\n",
       "      <td>5.0</td>\n",
       "      <td>0</td>\n",
       "    </tr>\n",
       "  </tbody>\n",
       "</table>\n",
       "<p>1000000 rows × 8 columns</p>\n",
       "</div>"
      ],
      "text/plain": [
       "        order_id  promise_speed  shipping_time         action  if_cainiao  \\\n",
       "0             23            2.0          928.0         SIGNED           1   \n",
       "1             23            2.0          928.0        CONSIGN           1   \n",
       "2             23            2.0          928.0            GOT           1   \n",
       "3             23            2.0          928.0        CONSIGN           1   \n",
       "4             23            2.0          928.0  TRADE_SUCCESS           1   \n",
       "...          ...            ...            ...            ...         ...   \n",
       "999995    840725            0.0        21785.0      DEPARTURE           0   \n",
       "999996    840725            0.0        21785.0        ARRIVAL           0   \n",
       "999997    840725            0.0        21785.0      DEPARTURE           0   \n",
       "999998    840725            0.0        21785.0      DEPARTURE           0   \n",
       "999999    840725            0.0        21785.0        CONSIGN           0   \n",
       "\n",
       "        time_difference  Logistics_review_score  isSatisfied  \n",
       "0                1952.0                     NaN            0  \n",
       "1                1952.0                     NaN            0  \n",
       "2                1952.0                     NaN            0  \n",
       "3                1952.0                     NaN            0  \n",
       "4                1952.0                     NaN            0  \n",
       "...                 ...                     ...          ...  \n",
       "999995          -8881.0                     5.0            0  \n",
       "999996          -8881.0                     5.0            0  \n",
       "999997          -8881.0                     5.0            0  \n",
       "999998          -8881.0                     5.0            0  \n",
       "999999          -8881.0                     5.0            0  \n",
       "\n",
       "[1000000 rows x 8 columns]"
      ]
     },
     "execution_count": 13,
     "metadata": {},
     "output_type": "execute_result"
    }
   ],
   "source": [
    "data1.fillna(method='ffill')"
   ]
  },
  {
   "cell_type": "code",
   "execution_count": 14,
   "id": "26a2d22f",
   "metadata": {},
   "outputs": [
    {
     "data": {
      "text/html": [
       "<div>\n",
       "<style scoped>\n",
       "    .dataframe tbody tr th:only-of-type {\n",
       "        vertical-align: middle;\n",
       "    }\n",
       "\n",
       "    .dataframe tbody tr th {\n",
       "        vertical-align: top;\n",
       "    }\n",
       "\n",
       "    .dataframe thead th {\n",
       "        text-align: right;\n",
       "    }\n",
       "</style>\n",
       "<table border=\"1\" class=\"dataframe\">\n",
       "  <thead>\n",
       "    <tr style=\"text-align: right;\">\n",
       "      <th></th>\n",
       "      <th>order_id</th>\n",
       "      <th>promise_speed</th>\n",
       "      <th>shipping_time</th>\n",
       "      <th>action</th>\n",
       "      <th>if_cainiao</th>\n",
       "      <th>time_difference</th>\n",
       "      <th>Logistics_review_score</th>\n",
       "      <th>isSatisfied</th>\n",
       "    </tr>\n",
       "  </thead>\n",
       "  <tbody>\n",
       "    <tr>\n",
       "      <th>0</th>\n",
       "      <td>23</td>\n",
       "      <td>2.0</td>\n",
       "      <td>928.0</td>\n",
       "      <td>SIGNED</td>\n",
       "      <td>1</td>\n",
       "      <td>1952.0</td>\n",
       "      <td>0.0</td>\n",
       "      <td>0</td>\n",
       "    </tr>\n",
       "    <tr>\n",
       "      <th>1</th>\n",
       "      <td>23</td>\n",
       "      <td>2.0</td>\n",
       "      <td>928.0</td>\n",
       "      <td>CONSIGN</td>\n",
       "      <td>1</td>\n",
       "      <td>1952.0</td>\n",
       "      <td>0.0</td>\n",
       "      <td>0</td>\n",
       "    </tr>\n",
       "    <tr>\n",
       "      <th>2</th>\n",
       "      <td>23</td>\n",
       "      <td>2.0</td>\n",
       "      <td>928.0</td>\n",
       "      <td>GOT</td>\n",
       "      <td>1</td>\n",
       "      <td>1952.0</td>\n",
       "      <td>0.0</td>\n",
       "      <td>0</td>\n",
       "    </tr>\n",
       "    <tr>\n",
       "      <th>3</th>\n",
       "      <td>23</td>\n",
       "      <td>2.0</td>\n",
       "      <td>928.0</td>\n",
       "      <td>CONSIGN</td>\n",
       "      <td>1</td>\n",
       "      <td>1952.0</td>\n",
       "      <td>0.0</td>\n",
       "      <td>0</td>\n",
       "    </tr>\n",
       "    <tr>\n",
       "      <th>4</th>\n",
       "      <td>23</td>\n",
       "      <td>2.0</td>\n",
       "      <td>928.0</td>\n",
       "      <td>TRADE_SUCCESS</td>\n",
       "      <td>1</td>\n",
       "      <td>1952.0</td>\n",
       "      <td>0.0</td>\n",
       "      <td>0</td>\n",
       "    </tr>\n",
       "    <tr>\n",
       "      <th>...</th>\n",
       "      <td>...</td>\n",
       "      <td>...</td>\n",
       "      <td>...</td>\n",
       "      <td>...</td>\n",
       "      <td>...</td>\n",
       "      <td>...</td>\n",
       "      <td>...</td>\n",
       "      <td>...</td>\n",
       "    </tr>\n",
       "    <tr>\n",
       "      <th>999995</th>\n",
       "      <td>840725</td>\n",
       "      <td>0.0</td>\n",
       "      <td>21785.0</td>\n",
       "      <td>DEPARTURE</td>\n",
       "      <td>0</td>\n",
       "      <td>0.0</td>\n",
       "      <td>0.0</td>\n",
       "      <td>0</td>\n",
       "    </tr>\n",
       "    <tr>\n",
       "      <th>999996</th>\n",
       "      <td>840725</td>\n",
       "      <td>0.0</td>\n",
       "      <td>21785.0</td>\n",
       "      <td>ARRIVAL</td>\n",
       "      <td>0</td>\n",
       "      <td>0.0</td>\n",
       "      <td>0.0</td>\n",
       "      <td>0</td>\n",
       "    </tr>\n",
       "    <tr>\n",
       "      <th>999997</th>\n",
       "      <td>840725</td>\n",
       "      <td>0.0</td>\n",
       "      <td>21785.0</td>\n",
       "      <td>DEPARTURE</td>\n",
       "      <td>0</td>\n",
       "      <td>0.0</td>\n",
       "      <td>0.0</td>\n",
       "      <td>0</td>\n",
       "    </tr>\n",
       "    <tr>\n",
       "      <th>999998</th>\n",
       "      <td>840725</td>\n",
       "      <td>0.0</td>\n",
       "      <td>21785.0</td>\n",
       "      <td>DEPARTURE</td>\n",
       "      <td>0</td>\n",
       "      <td>0.0</td>\n",
       "      <td>0.0</td>\n",
       "      <td>0</td>\n",
       "    </tr>\n",
       "    <tr>\n",
       "      <th>999999</th>\n",
       "      <td>840725</td>\n",
       "      <td>0.0</td>\n",
       "      <td>21785.0</td>\n",
       "      <td>CONSIGN</td>\n",
       "      <td>0</td>\n",
       "      <td>0.0</td>\n",
       "      <td>0.0</td>\n",
       "      <td>0</td>\n",
       "    </tr>\n",
       "  </tbody>\n",
       "</table>\n",
       "<p>1000000 rows × 8 columns</p>\n",
       "</div>"
      ],
      "text/plain": [
       "        order_id  promise_speed  shipping_time         action  if_cainiao  \\\n",
       "0             23            2.0          928.0         SIGNED           1   \n",
       "1             23            2.0          928.0        CONSIGN           1   \n",
       "2             23            2.0          928.0            GOT           1   \n",
       "3             23            2.0          928.0        CONSIGN           1   \n",
       "4             23            2.0          928.0  TRADE_SUCCESS           1   \n",
       "...          ...            ...            ...            ...         ...   \n",
       "999995    840725            0.0        21785.0      DEPARTURE           0   \n",
       "999996    840725            0.0        21785.0        ARRIVAL           0   \n",
       "999997    840725            0.0        21785.0      DEPARTURE           0   \n",
       "999998    840725            0.0        21785.0      DEPARTURE           0   \n",
       "999999    840725            0.0        21785.0        CONSIGN           0   \n",
       "\n",
       "        time_difference  Logistics_review_score  isSatisfied  \n",
       "0                1952.0                     0.0            0  \n",
       "1                1952.0                     0.0            0  \n",
       "2                1952.0                     0.0            0  \n",
       "3                1952.0                     0.0            0  \n",
       "4                1952.0                     0.0            0  \n",
       "...                 ...                     ...          ...  \n",
       "999995              0.0                     0.0            0  \n",
       "999996              0.0                     0.0            0  \n",
       "999997              0.0                     0.0            0  \n",
       "999998              0.0                     0.0            0  \n",
       "999999              0.0                     0.0            0  \n",
       "\n",
       "[1000000 rows x 8 columns]"
      ]
     },
     "execution_count": 14,
     "metadata": {},
     "output_type": "execute_result"
    }
   ],
   "source": [
    "data1 = data1.replace(['', 'nan'], np.nan)\n",
    "data1 = data1.fillna(0)\n",
    "data1"
   ]
  },
  {
   "cell_type": "code",
   "execution_count": 15,
   "id": "29a6336e",
   "metadata": {},
   "outputs": [
    {
     "data": {
      "text/html": [
       "<div>\n",
       "<style scoped>\n",
       "    .dataframe tbody tr th:only-of-type {\n",
       "        vertical-align: middle;\n",
       "    }\n",
       "\n",
       "    .dataframe tbody tr th {\n",
       "        vertical-align: top;\n",
       "    }\n",
       "\n",
       "    .dataframe thead th {\n",
       "        text-align: right;\n",
       "    }\n",
       "</style>\n",
       "<table border=\"1\" class=\"dataframe\">\n",
       "  <thead>\n",
       "    <tr style=\"text-align: right;\">\n",
       "      <th></th>\n",
       "      <th>order_id</th>\n",
       "      <th>promise_speed</th>\n",
       "      <th>shipping_time</th>\n",
       "      <th>action</th>\n",
       "      <th>if_cainiao</th>\n",
       "      <th>time_difference</th>\n",
       "      <th>Logistics_review_score</th>\n",
       "      <th>isSatisfied</th>\n",
       "    </tr>\n",
       "  </thead>\n",
       "  <tbody>\n",
       "    <tr>\n",
       "      <th>0</th>\n",
       "      <td>23</td>\n",
       "      <td>2.0</td>\n",
       "      <td>928.0</td>\n",
       "      <td>SIGNED</td>\n",
       "      <td>1</td>\n",
       "      <td>1952.0</td>\n",
       "      <td>0.0</td>\n",
       "      <td>0</td>\n",
       "    </tr>\n",
       "    <tr>\n",
       "      <th>1</th>\n",
       "      <td>23</td>\n",
       "      <td>2.0</td>\n",
       "      <td>928.0</td>\n",
       "      <td>CONSIGN</td>\n",
       "      <td>1</td>\n",
       "      <td>1952.0</td>\n",
       "      <td>0.0</td>\n",
       "      <td>0</td>\n",
       "    </tr>\n",
       "    <tr>\n",
       "      <th>2</th>\n",
       "      <td>23</td>\n",
       "      <td>2.0</td>\n",
       "      <td>928.0</td>\n",
       "      <td>GOT</td>\n",
       "      <td>1</td>\n",
       "      <td>1952.0</td>\n",
       "      <td>0.0</td>\n",
       "      <td>0</td>\n",
       "    </tr>\n",
       "    <tr>\n",
       "      <th>3</th>\n",
       "      <td>23</td>\n",
       "      <td>2.0</td>\n",
       "      <td>928.0</td>\n",
       "      <td>CONSIGN</td>\n",
       "      <td>1</td>\n",
       "      <td>1952.0</td>\n",
       "      <td>0.0</td>\n",
       "      <td>0</td>\n",
       "    </tr>\n",
       "    <tr>\n",
       "      <th>4</th>\n",
       "      <td>23</td>\n",
       "      <td>2.0</td>\n",
       "      <td>928.0</td>\n",
       "      <td>TRADE_SUCCESS</td>\n",
       "      <td>1</td>\n",
       "      <td>1952.0</td>\n",
       "      <td>0.0</td>\n",
       "      <td>0</td>\n",
       "    </tr>\n",
       "  </tbody>\n",
       "</table>\n",
       "</div>"
      ],
      "text/plain": [
       "   order_id  promise_speed  shipping_time         action  if_cainiao  \\\n",
       "0        23            2.0          928.0         SIGNED           1   \n",
       "1        23            2.0          928.0        CONSIGN           1   \n",
       "2        23            2.0          928.0            GOT           1   \n",
       "3        23            2.0          928.0        CONSIGN           1   \n",
       "4        23            2.0          928.0  TRADE_SUCCESS           1   \n",
       "\n",
       "   time_difference  Logistics_review_score  isSatisfied  \n",
       "0           1952.0                     0.0            0  \n",
       "1           1952.0                     0.0            0  \n",
       "2           1952.0                     0.0            0  \n",
       "3           1952.0                     0.0            0  \n",
       "4           1952.0                     0.0            0  "
      ]
     },
     "execution_count": 15,
     "metadata": {},
     "output_type": "execute_result"
    }
   ],
   "source": [
    "data1.head()"
   ]
  },
  {
   "cell_type": "code",
   "execution_count": 16,
   "id": "eaa8e135",
   "metadata": {},
   "outputs": [
    {
     "data": {
      "text/plain": [
       "((700000, 4), (300000, 4))"
      ]
     },
     "execution_count": 16,
     "metadata": {},
     "output_type": "execute_result"
    }
   ],
   "source": [
    "#traintest split\n",
    "from sklearn.model_selection import train_test_split\n",
    "\n",
    "y = data1['isSatisfied']\n",
    "X = data1[['promise_speed','shipping_time','if_cainiao','time_difference']]\n",
    "\n",
    "X_train, X_test, y_train, y_test = train_test_split(X, y, test_size=0.3, random_state=88)\n",
    "X_train.shape, X_test.shape"
   ]
  },
  {
   "cell_type": "markdown",
   "id": "5967c1e8",
   "metadata": {},
   "source": [
    "**LINEAR DISCRIMINANT ANALYSIS ON IS-SATISFIED**"
   ]
  },
  {
   "cell_type": "code",
   "execution_count": 17,
   "id": "e2591821",
   "metadata": {},
   "outputs": [
    {
     "data": {
      "text/plain": [
       "LinearDiscriminantAnalysis()"
      ]
     },
     "execution_count": 17,
     "metadata": {},
     "output_type": "execute_result"
    }
   ],
   "source": [
    "from sklearn.discriminant_analysis import LinearDiscriminantAnalysis\n",
    "lda = LinearDiscriminantAnalysis()\n",
    "lda.fit(X_train, y_train)"
   ]
  },
  {
   "cell_type": "code",
   "execution_count": 18,
   "id": "0aeaf2a2",
   "metadata": {},
   "outputs": [],
   "source": [
    "y_pred_lda = lda.predict(X_test)"
   ]
  },
  {
   "cell_type": "code",
   "execution_count": 19,
   "id": "3af53c08",
   "metadata": {},
   "outputs": [],
   "source": [
    "from sklearn.metrics import confusion_matrix\n",
    "lda_confusion = confusion_matrix(y_test, y_pred_lda).ravel()"
   ]
  },
  {
   "cell_type": "code",
   "execution_count": 20,
   "id": "3b15b365",
   "metadata": {},
   "outputs": [
    {
     "data": {
      "text/plain": [
       "0.6693733333333334"
      ]
     },
     "execution_count": 20,
     "metadata": {},
     "output_type": "execute_result"
    }
   ],
   "source": [
    "from sklearn.metrics import accuracy_score\n",
    "accuracy_score(y_test, y_pred_lda)"
   ]
  },
  {
   "cell_type": "markdown",
   "id": "dc0664b1",
   "metadata": {},
   "source": [
    "**logistic regression**"
   ]
  },
  {
   "cell_type": "code",
   "execution_count": 21,
   "id": "864482c5",
   "metadata": {},
   "outputs": [
    {
     "data": {
      "text/plain": [
       "LogisticRegression(random_state=88)"
      ]
     },
     "execution_count": 21,
     "metadata": {},
     "output_type": "execute_result"
    }
   ],
   "source": [
    "from sklearn.linear_model import LogisticRegression\n",
    "logreg = LogisticRegression(random_state=88)\n",
    "logreg.fit(X_train, y_train)"
   ]
  },
  {
   "cell_type": "code",
   "execution_count": 22,
   "id": "cf32ba92",
   "metadata": {},
   "outputs": [
    {
     "name": "stdout",
     "output_type": "stream",
     "text": [
      "Confusion Matrix: \n",
      " [[200805     10]\n",
      " [ 99178      7]]\n",
      "\n",
      "Accuracy: 0.6693733333333334\n"
     ]
    }
   ],
   "source": [
    "from sklearn.metrics import confusion_matrix\n",
    "from sklearn.metrics import accuracy_score\n",
    "y_prob = logreg.predict_proba(X_test)\n",
    "y_pred = pd.Series([1 if x > 0.5 else 0 for x in y_prob[:,1]], index=y_test.index)\n",
    "cm = confusion_matrix(y_test, y_pred)\n",
    "print (\"Confusion Matrix: \\n\", cm)\n",
    "print (\"\\nAccuracy:\", accuracy_score(y_test, y_pred))"
   ]
  },
  {
   "cell_type": "markdown",
   "id": "0e6d792c",
   "metadata": {},
   "source": [
    "**BOOTSTRAPPING***"
   ]
  },
  {
   "cell_type": "code",
   "execution_count": 23,
   "id": "50506c30",
   "metadata": {},
   "outputs": [],
   "source": [
    "#create function for the metric I am using (TPR)\n",
    "def tpr(predictions):\n",
    "    cm= confusion_matrix(y_test, predictions)\n",
    "    tn=cm[0,0]\n",
    "    fn=cm[1,0]\n",
    "    fp=cm[0,1]\n",
    "    tp=cm[1,1]\n",
    "    return tp/(tp + fn)\n",
    "def fpr(predictions):\n",
    "    cm = confusion_matrix(y_test, predictions)\n",
    "    tn=cm[0,0]\n",
    "    fn=cm[1,0]\n",
    "    fp=cm[0,1]\n",
    "    tp=cm[1,1]\n",
    "    return fp/(fp + tn)\n",
    "def acc(predictions):\n",
    "    cm = confusion_matrix(y_test, predictions)\n",
    "    tn=cm[0,0]\n",
    "    fn=cm[1,0]\n",
    "    fp=cm[0,1]\n",
    "    tp=cm[1,1]\n",
    "    return (tp+tn)/(tp+fp+tn+fn)\n",
    "def pre(predictions):\n",
    "    cm = confusion_matrix(y_test, predictions)\n",
    "    tn=cm[0,0]\n",
    "    fn=cm[1,0]\n",
    "    fp=cm[0,1]\n",
    "    tp=cm[1,1]\n",
    "    return tp/(tp+fp)"
   ]
  },
  {
   "cell_type": "code",
   "execution_count": 24,
   "id": "f3aee1e3",
   "metadata": {},
   "outputs": [],
   "source": [
    "import time\n",
    "\n",
    "def bootstrap_validation(test_data, test_label, train_label, model, metrics_list, sample=50):\n",
    "    tic = time.time()\n",
    "    n_sample = sample\n",
    "    n_metrics = len(metrics_list)\n",
    "    output_array=np.zeros([n_sample, n_metrics])\n",
    "    output_array[:]=np.nan\n",
    "    print(output_array.shape)\n",
    "    for bs_iter in range(n_sample):\n",
    "        bs_index = np.random.choice(test_data.index, len(test_data.index), replace=True)\n",
    "        bs_data = test_data.loc[bs_index]\n",
    "        bs_label = test_label.loc[bs_index]\n",
    "        bs_predicted = model.predict(bs_data)\n",
    "        for metrics_iter in range(n_metrics):\n",
    "            metrics = metrics_list[metrics_iter]\n",
    "            output_array[bs_iter, metrics_iter] = metrics(bs_predicted)\n",
    "# if bs_iter % 100 == 0:\n",
    "# print(bs_iter, time.time()-tic)\n",
    "    output_df = pd.DataFrame(output_array)\n",
    "    return output_df"
   ]
  },
  {
   "cell_type": "code",
   "execution_count": 25,
   "id": "1a0640ca",
   "metadata": {},
   "outputs": [],
   "source": [
    "#bs_output = bootstrap_validation(X_test,y_test,y_train,logreg, metrics_list=[tpr,fpr,acc],sample = 5000)"
   ]
  },
  {
   "cell_type": "code",
   "execution_count": 26,
   "id": "0c25cad7",
   "metadata": {},
   "outputs": [
    {
     "name": "stdout",
     "output_type": "stream",
     "text": [
      "True positive for Logisitic regression is 7.057518778041034e-05\n",
      "False positive for Logisitic regression is 4.979707691158529e-05\n",
      "Accuracy for Logisitic regression is 0.6693733333333334\n",
      "PRE for Logisitic regression is 0.4117647058823529\n"
     ]
    }
   ],
   "source": [
    "print(\"True positive for Logisitic regression is\",tpr(y_pred) )\n",
    "print(\"False positive for Logisitic regression is\",fpr(y_pred) )\n",
    "print(\"Accuracy for Logisitic regression is\",acc(y_pred) )\n",
    "print(\"PRE for Logisitic regression is\",pre(y_pred) )"
   ]
  },
  {
   "cell_type": "code",
   "execution_count": 27,
   "id": "c1a6927a",
   "metadata": {},
   "outputs": [
    {
     "name": "stdout",
     "output_type": "stream",
     "text": [
      "True positive for LDA is 7.057518778041034e-05\n",
      "False positive for LDA is 4.979707691158529e-05\n",
      "Accuracy for LDA is 0.6693733333333334\n",
      "PRE for LDA is 0.4117647058823529\n"
     ]
    }
   ],
   "source": [
    "print(\"True positive for LDA is\",tpr(y_pred_lda) )\n",
    "print(\"False positive for LDA is\",fpr(y_pred_lda) )\n",
    "print(\"Accuracy for LDA is\",acc(y_pred_lda))\n",
    "print(\"PRE for LDA is\",pre(y_pred_lda))"
   ]
  },
  {
   "cell_type": "code",
   "execution_count": 28,
   "id": "5abb02b3",
   "metadata": {},
   "outputs": [
    {
     "ename": "NameError",
     "evalue": "name 'n_estimators' is not defined",
     "output_type": "error",
     "traceback": [
      "\u001b[0;31m---------------------------------------------------------------------------\u001b[0m",
      "\u001b[0;31mNameError\u001b[0m                                 Traceback (most recent call last)",
      "\u001b[0;32m/var/folders/0r/_568dtlx1ksbtyyp1djps8j80000gn/T/ipykernel_73930/2993362864.py\u001b[0m in \u001b[0;36m<module>\u001b[0;34m\u001b[0m\n\u001b[1;32m      1\u001b[0m \u001b[0;31m# Initialize the output array\u001b[0m\u001b[0;34m\u001b[0m\u001b[0;34m\u001b[0m\u001b[0m\n\u001b[0;32m----> 2\u001b[0;31m \u001b[0mR2_array\u001b[0m \u001b[0;34m=\u001b[0m \u001b[0mnp\u001b[0m\u001b[0;34m.\u001b[0m\u001b[0mzeros\u001b[0m\u001b[0;34m(\u001b[0m\u001b[0;34m[\u001b[0m\u001b[0mlen\u001b[0m\u001b[0;34m(\u001b[0m\u001b[0mn_estimators\u001b[0m\u001b[0;34m)\u001b[0m\u001b[0;34m,\u001b[0m\u001b[0mlen\u001b[0m\u001b[0;34m(\u001b[0m\u001b[0mmax_leaf_nodes\u001b[0m\u001b[0;34m)\u001b[0m\u001b[0;34m]\u001b[0m\u001b[0;34m)\u001b[0m\u001b[0;34m\u001b[0m\u001b[0;34m\u001b[0m\u001b[0m\n\u001b[0m\u001b[1;32m      3\u001b[0m \u001b[0mR2_array\u001b[0m\u001b[0;34m[\u001b[0m\u001b[0;34m:\u001b[0m\u001b[0;34m]\u001b[0m\u001b[0;34m=\u001b[0m\u001b[0mnp\u001b[0m\u001b[0;34m.\u001b[0m\u001b[0mnan\u001b[0m\u001b[0;34m\u001b[0m\u001b[0;34m\u001b[0m\u001b[0m\n\u001b[1;32m      4\u001b[0m \u001b[0mRMSE_array\u001b[0m \u001b[0;34m=\u001b[0m \u001b[0mnp\u001b[0m\u001b[0;34m.\u001b[0m\u001b[0mzeros\u001b[0m\u001b[0;34m(\u001b[0m\u001b[0;34m[\u001b[0m\u001b[0mlen\u001b[0m\u001b[0;34m(\u001b[0m\u001b[0mn_estimators\u001b[0m\u001b[0;34m)\u001b[0m\u001b[0;34m,\u001b[0m\u001b[0mlen\u001b[0m\u001b[0;34m(\u001b[0m\u001b[0mmax_leaf_nodes\u001b[0m\u001b[0;34m)\u001b[0m\u001b[0;34m]\u001b[0m\u001b[0;34m)\u001b[0m\u001b[0;34m\u001b[0m\u001b[0;34m\u001b[0m\u001b[0m\n\u001b[1;32m      5\u001b[0m \u001b[0mRMSE_array\u001b[0m\u001b[0;34m[\u001b[0m\u001b[0;34m:\u001b[0m\u001b[0;34m]\u001b[0m\u001b[0;34m=\u001b[0m\u001b[0mnp\u001b[0m\u001b[0;34m.\u001b[0m\u001b[0mnan\u001b[0m\u001b[0;34m\u001b[0m\u001b[0;34m\u001b[0m\u001b[0m\n",
      "\u001b[0;31mNameError\u001b[0m: name 'n_estimators' is not defined"
     ]
    }
   ],
   "source": [
    "# Initialize the output array\n",
    "R2_array = np.zeros([len(n_estimators),len(max_leaf_nodes)])\n",
    "R2_array[:]=np.nan\n",
    "RMSE_array = np.zeros([len(n_estimators),len(max_leaf_nodes)])\n",
    "RMSE_array[:]=np.nan\n",
    "MAE_array = np.zeros([len(n_estimators),len(max_leaf_nodes)])\n",
    "MAE_array[:]=np.nan\n",
    "print(R2_array.shape)"
   ]
  },
  {
   "cell_type": "markdown",
   "id": "869e2845",
   "metadata": {},
   "source": [
    "***GRADIENT BOOST CLASSIFIER***"
   ]
  },
  {
   "cell_type": "code",
   "execution_count": 29,
   "id": "bfb6bacc",
   "metadata": {},
   "outputs": [],
   "source": [
    "from sklearn.ensemble import GradientBoostingClassifier\n",
    "from sklearn.datasets import make_classification\n",
    "from sklearn.model_selection import train_test_split"
   ]
  },
  {
   "cell_type": "code",
   "execution_count": 30,
   "id": "5c7af0e8",
   "metadata": {},
   "outputs": [],
   "source": [
    "gbc = GradientBoostingClassifier(n_estimators=100, learning_rate=0.1, max_depth=3, random_state=1)"
   ]
  },
  {
   "cell_type": "code",
   "execution_count": 31,
   "id": "9aba3dbe",
   "metadata": {},
   "outputs": [
    {
     "data": {
      "text/plain": [
       "GradientBoostingClassifier(random_state=1)"
      ]
     },
     "execution_count": 31,
     "metadata": {},
     "output_type": "execute_result"
    }
   ],
   "source": [
    "gbc.fit(X_train, y_train)"
   ]
  },
  {
   "cell_type": "code",
   "execution_count": 33,
   "id": "8212b88b",
   "metadata": {},
   "outputs": [],
   "source": [
    "y_pred_gbc = gbc.predict(X_test)"
   ]
  },
  {
   "cell_type": "code",
   "execution_count": 35,
   "id": "793297c6",
   "metadata": {},
   "outputs": [
    {
     "name": "stdout",
     "output_type": "stream",
     "text": [
      "Confusion Matrix: \n",
      " [[200810      5]\n",
      " [ 99094     91]]\n",
      "\n",
      "Accuracy: 0.66967\n"
     ]
    }
   ],
   "source": [
    "from sklearn.metrics import confusion_matrix\n",
    "from sklearn.metrics import accuracy_score\n",
    "y_prob = gbc.predict_proba(X_test)\n",
    "y_pred_gbc = pd.Series([1 if x > 0.5 else 0 for x in y_prob[:,1]], index=y_test.index)\n",
    "cm = confusion_matrix(y_test, y_pred_gbc)\n",
    "print (\"Confusion Matrix: \\n\", cm)\n",
    "print (\"\\nAccuracy:\", accuracy_score(y_test, y_pred_gbc))"
   ]
  },
  {
   "cell_type": "code",
   "execution_count": 36,
   "id": "2509a06d",
   "metadata": {},
   "outputs": [
    {
     "name": "stdout",
     "output_type": "stream",
     "text": [
      "Accuracy: 0.66967\n"
     ]
    }
   ],
   "source": [
    "accuracy = gbc.score(X_test, y_test)\n",
    "print('Accuracy:', accuracy)"
   ]
  },
  {
   "cell_type": "code",
   "execution_count": 34,
   "id": "60692a15",
   "metadata": {},
   "outputs": [
    {
     "name": "stdout",
     "output_type": "stream",
     "text": [
      "True positive for Gradientboostclassifier is 0.0009174774411453344\n",
      "False positive for Gradientboostclassifier is 2.4898538455792647e-05\n",
      "Accuracy for Gradientboostclassifier is 0.66967\n",
      "PRE for Gradientboostclassifier is 0.9479166666666666\n"
     ]
    }
   ],
   "source": [
    "print(\"True positive for Gradientboostclassifier is\",tpr(y_pred) )\n",
    "print(\"False positive for Gradientboostclassifier is\",fpr(y_pred) )\n",
    "print(\"Accuracy for Gradientboostclassifier is\",acc(y_pred) )\n",
    "print(\"PRE for Gradientboostclassifier is\",pre(y_pred) )"
   ]
  },
  {
   "cell_type": "markdown",
   "id": "a4554634",
   "metadata": {},
   "source": [
    "***GRADIENT BOOSTING REGRESSOR***"
   ]
  },
  {
   "cell_type": "code",
   "execution_count": null,
   "id": "f52976da",
   "metadata": {},
   "outputs": [],
   "source": [
    "data.head(5)"
   ]
  },
  {
   "cell_type": "code",
   "execution_count": null,
   "id": "03421be1",
   "metadata": {},
   "outputs": [],
   "source": [
    "data2=data[['order_id','promise_speed','shipping_time','action','if_cainiao','time_difference','Logistics_review_score']]\n",
    "data1.info()"
   ]
  },
  {
   "cell_type": "code",
   "execution_count": null,
   "id": "d149693d",
   "metadata": {},
   "outputs": [],
   "source": [
    "#traintest split\n",
    "from sklearn.model_selection import train_test_split\n",
    "\n",
    "y_reg = data2['Logistics_review_score']\n",
    "X_reg = data2[['promise_speed','shipping_time','if_cainiao','time_difference']]\n",
    "\n",
    "X_reg_train, X_reg_test, y_reg_train, y_reg_test = train_test_split(X, y, test_size=0.3, random_state=88)\n",
    "X_reg_train.shape, X_reg_test.shape"
   ]
  },
  {
   "cell_type": "code",
   "execution_count": null,
   "id": "283450be",
   "metadata": {},
   "outputs": [],
   "source": [
    "from sklearn.ensemble import GradientBoostingRegressor\n",
    "\n",
    "gbr = GradientBoostingRegressor(n_estimators=2000, learning_rate= 0.001, max_leaf_nodes=3,\n",
    "                                max_depth=10, min_samples_leaf=10, random_state=88, verbose=1) \n",
    "gbr.fit(X_reg_train, y_reg_train)"
   ]
  },
  {
   "cell_type": "code",
   "execution_count": null,
   "id": "55d08f0a",
   "metadata": {},
   "outputs": [],
   "source": [
    "def OSR2(model, X_test, y_test, y_train):\n",
    "    \n",
    "    y_pred = model.predict(X_test)\n",
    "    SSE = np.sum((y_test - y_pred)**2)\n",
    "    SST = np.sum((y_test - np.mean(y_train))**2)\n",
    "                 \n",
    "    return (1 - SSE/SST)"
   ]
  },
  {
   "cell_type": "code",
   "execution_count": null,
   "id": "d7fdf030",
   "metadata": {},
   "outputs": [],
   "source": [
    "print('OSR2:', round(OSR2(gbr, X_reg_test, y_reg_test, y_reg_train), 5))"
   ]
  },
  {
   "cell_type": "markdown",
   "id": "9faf9f1d",
   "metadata": {},
   "source": [
    "**BOOSTING WITH CV**"
   ]
  },
  {
   "cell_type": "raw",
   "id": "8df79d0d",
   "metadata": {},
   "source": [
    "from sklearn.ensemble import GradientBoostingRegressor\n",
    "from sklearn.datasets import make_classification\n",
    "from sklearn.model_selectiofrom sklearn.model_selection import KFold\n",
    "kf = KFold(n_splits=5,shuffle=True, random_state=88)\n",
    "kfold_index = [] \n",
    "for index in kf.split(x_train):\n",
    "    kfold_index.append(index)\n",
    "# Each element of kfold_index is in the form of (kfold_index, kfold_index)\n",
    "\n",
    "# Define the grid (## I am using a subset of the original grid, to reduce the running time)\n",
    "n_estimators = np.linspace(500, 75*500, 75, dtype='int32')\n",
    "max_leaf_nodes = np.linspace(2, 10, 9, dtype='int32')  \n",
    "\n",
    "# Initialize the output array\n",
    "R2_array = np.zeros([len(n_estimators),len(max_leaf_nodes)])\n",
    "R2_array[:]=np.nan\n",
    "RMSE_array = np.zeros([len(n_estimators),len(max_leaf_nodes)])\n",
    "RMSE_array[:]=np.nan\n",
    "MAE_array = np.zeros([len(n_estimators),len(max_leaf_nodes)])\n",
    "MAE_array[:]=np.nan\n",
    "print(R2_array.shape)\n",
    "\n",
    "best_model_index = np.argmax(R2_array)\n",
    "row_index = best_model_index//R2_array.shape[1]\n",
    "col_index = best_model_index % R2_array.shape[1]\n",
    "best_n_estimators = n_estimators[row_index]\n",
    "best_max_leaf_nodes = max_leaf_nodes[col_index]\n",
    "print('Best Model: n_estimator = %s, max_leaf_nodes = %s' %(best_n_estimators, best_max_leaf_nodes))\n",
    "\n",
    "param_grid = {\n",
    "    'n_estimators': [50, 100, 200, 500]\n",
    "}\n",
    "\n",
    "from sklearn.ensemble import GradientBoostingRegressor\n",
    "from sklearn.model_selection import GridSearchCV\n",
    "grid_search = GridSearchCV(estimator=GradientBoostingRegressor(), param_grid=param_grid)\n",
    "grid_search.fit(x_train, y_train)\n",
    "\n",
    "best_params = grid_search.best_params_\n",
    "\n",
    "best_n_estimators = best_params['n_estimators']\n",
    "gbr2 = GradientBoostingRegressor()\n",
    "\n",
    "from scipy.stats import pearsonr\n",
    "from sklearn.metrics import mean_squared_error\n",
    "from sklearn.metrics import mean_absolute_error\n",
    "\n",
    "import time\n",
    "start = time.time()\n",
    "for itr in range(len(max_leaf_nodes)):\n",
    "    depth = max_leaf_nodes[itr]\n",
    "    print('iter % s, max_depth: %s' % (itr, depth))\n",
    "    #------begin the 5-fold cross validation ------\n",
    "    R2_array_cv = np.zeros([len(n_estimators),5])\n",
    "    R2_array_cv[:]=np.nan\n",
    "    RMSE_array_cv = np.zeros([len(n_estimators),5])\n",
    "    RMSE_array_cv[:]=np.nan\n",
    "    MAE_array_cv = np.zeros([len(n_estimators),5])\n",
    "    MAE_array_cv[:]=np.nan\n",
    "    for i in range(5):\n",
    "        train_idx, val_idx = kfold_index[i]\n",
    "        X_train_cv = x_train.iloc[train_idx]\n",
    "        y_train_cv = y_train.iloc[train_idx]\n",
    "        X_val_cv = x_train.iloc[val_idx]\n",
    "        y_val_cv = y_train.iloc[val_idx]\n",
    "        print('   fold-%s, training set size %s, validation set size %s' %(i, len(train_idx), len(val_idx)))\n",
    "        #------ Given each training set and validation set, train a gbr model with the maximum n_estimators\n",
    "        GradientBoostingRegressor(n_estimators = best_n_estimators, learning_rate = 0.005, max_depth = 20,\n",
    "                                max_leaf_nodes=best_max_leaf_nodes, min_samples_leaf=10,random_state=99,verbose=2)\n",
    "        gbr2.fit(X_train_cv,y_train_cv)\n",
    "        j=0\n",
    "        idx=[]\n",
    "        r2_lst=[]\n",
    "        rmse_lst=[]\n",
    "        mae_lst=[]\n",
    "        for y_staged_pred in gbr2.staged_predict(X_val_cv):\n",
    "            r2= pearsonr(y_staged_pred, y_val_cv)[0] ** 2\n",
    "            rmse = mean_squared_error(y_val_cv, y_staged_pred, squared=False)\n",
    "            mae = mean_absolute_error(y_val_cv, y_staged_pred)\n",
    "            if j % 500 == 0:\n",
    "                idx.append(j)\n",
    "                r2_lst.append(r2)\n",
    "                rmse_lst.append(rmse)\n",
    "                mae_lst.append(mae)\n",
    "            j+=1\n",
    "        R2_array_cv[:,i]=r2_lst\n",
    "        RMSE_array_cv[:,i]=rmse_lst\n",
    "        MAE_array_cv[:,i]=mae_lst\n",
    "        print('        cv fold-%s, time-ellapsed: %.2f' %(i,time.time()-start))\n",
    "    R2_array[:,itr]=np.average(R2_array_cv,axis = 1)\n",
    "    RMSE_array[:,itr]=np.average(RMSE_array_cv,axis = 1)\n",
    "    MAE_array[:,itr]=np.average(MAE_array_cv,axis = 1)\n",
    "\n",
    "plt.figure(figsize=(12, 8))\n",
    "plt.xlabel('n estimators', fontsize=16)\n",
    "plt.ylabel('CV R2', fontsize=16)\n",
    "plt.grid(True, which='both')\n",
    "\n",
    "N = len(max_leaf_nodes)\n",
    "M = len(n_estimators)\n",
    "for i in range(N):\n",
    "    plt.scatter(n_estimators, R2_array[:,i], s=30)\n",
    "    plt.plot(n_estimators, R2_array[:,i], linewidth=2,\n",
    "             label='max leaf nodes = '+str(max_leaf_nodes[i]))\n",
    "plt.legend(loc='lower right')\n",
    "plt.show()\n",
    "\n",
    "best_model_index = np.argmax(R2_array)\n",
    "row_index = best_model_index//R2_array.shape[1]\n",
    "col_index = best_model_index % R2_array.shape[1]\n",
    "best_n_estimators = n_estimators[row_index]\n",
    "best_max_leaf_nodes = max_leaf_nodes[col_index]\n",
    "print('Best Model: n_estimator = %s, max_leaf_nodes = %s' %(best_n_estimators, best_max_leaf_nodes))n import GridSearchCV\n",
    "grid_search = GridSearchCV(estimator=GradientBoostingRegressor(), param_grid=param_grid)\n",
    "grid_search.fit(X_train, y_train)"
   ]
  },
  {
   "cell_type": "raw",
   "id": "c149a35a",
   "metadata": {},
   "source": [
    "best_params = grid_search.best_params_"
   ]
  },
  {
   "cell_type": "raw",
   "id": "8ba8f4b6",
   "metadata": {},
   "source": [
    "param_grid = {\n",
    "    'n_estimators': [50, 100, 200, 500]\n",
    "}"
   ]
  },
  {
   "cell_type": "raw",
   "id": "241ce997",
   "metadata": {},
   "source": [
    "# Define the grid (## I am using a subset of the original grid, to reduce the running time)\n",
    "n_estimators = np.linspace(500, 75*500, 75, dtype='int32')\n",
    "max_leaf_nodes = np.linspace(2, 10, 9, dtype='int32') "
   ]
  },
  {
   "cell_type": "raw",
   "id": "b7f854f2",
   "metadata": {},
   "source": [
    "best_n_estimators = best_params['n_estimators']"
   ]
  },
  {
   "cell_type": "raw",
   "id": "cbb50199",
   "metadata": {},
   "source": [
    "best_max_leaf_nodes = 10"
   ]
  },
  {
   "cell_type": "raw",
   "id": "611587b3",
   "metadata": {},
   "source": [
    "from sklearn.model_selection import KFold\n",
    "kf = KFold(n_splits=5,shuffle=True, random_state=88)\n",
    "kfold_index = [] \n",
    "for index in kf.split(X_train):\n",
    "    kfold_index.append(index)\n",
    "# Each element of kfold_index is in the form of (kfold_index, kfold_index)"
   ]
  },
  {
   "cell_type": "raw",
   "id": "81980c2f",
   "metadata": {},
   "source": [
    "import matplotlib.pyplot as plt\n",
    "plt.figure(figsize=(12, 8))\n",
    "plt.xlabel('n estimators', fontsize=16)\n",
    "plt.ylabel('CV R2', fontsize=16)\n",
    "plt.grid(True, which='both')\n",
    "\n",
    "N = len(max_leaf_nodes)\n",
    "M = len(n_estimators)\n",
    "for i in range(N):\n",
    "    plt.scatter(n_estimators, R2_array[:,i], s=30)\n",
    "    plt.plot(n_estimators, R2_array[:,i], linewidth=2,\n",
    "             label='max leaf nodes = '+str(max_leaf_nodes[i]))\n",
    "plt.legend(loc='lower right')\n",
    "plt.show()"
   ]
  },
  {
   "cell_type": "raw",
   "id": "1b7681a2",
   "metadata": {},
   "source": [
    "best_model_index = np.argmax(R2_array)\n",
    "row_index = best_model_index//R2_array.shape[1]\n",
    "col_index = best_model_index % R2_array.shape[1]\n",
    "best_n_estimators = n_estimators[row_index]\n",
    "best_max_leaf_nodes = max_leaf_nodes[col_index]\n",
    "print('Best Model: n_estimator = %s, max_leaf_nodes = %s' %(best_n_estimators, best_max_leaf_nodes))"
   ]
  },
  {
   "cell_type": "raw",
   "id": "80b699ef",
   "metadata": {},
   "source": [
    "gbr_cv = GradientBoostingClassifier(n_estimators = best_n_estimators, learning_rate = 0.005, max_depth = 20,\n",
    "                                max_leaf_nodes=best_max_leaf_nodes, min_samples_leaf=10,random_state=99,verbose=0)\n",
    "gbr_cv.fit(X_train,y_train)"
   ]
  },
  {
   "cell_type": "code",
   "execution_count": null,
   "id": "4648ff1c",
   "metadata": {},
   "outputs": [],
   "source": [
    "#Boosting is not executing with CV due to model complexity"
   ]
  },
  {
   "cell_type": "raw",
   "id": "8a92a381",
   "metadata": {},
   "source": [
    "print('Cross-validated R2:', round(R2_array[row_index, col_index], 5))\n",
    "print('OSR2:', round(OSR2(gbr_cv, X_test, y_test, y_train), 5))"
   ]
  },
  {
   "cell_type": "code",
   "execution_count": null,
   "id": "c95c1773",
   "metadata": {},
   "outputs": [],
   "source": [
    "inventory = pd.read_csv(\"msom_inventory_data.csv\", names = ('day','item_id','warehouse_id','warehouse_city_id','total_begin_qty','total_end_qty','Replen_in_qty','transfer_in_qty','sale_out_qty','transfer_out_qty'))\n",
    "inventory.info()"
   ]
  },
  {
   "cell_type": "code",
   "execution_count": null,
   "id": "b0c09b99",
   "metadata": {},
   "outputs": [],
   "source": []
  }
 ],
 "metadata": {
  "kernelspec": {
   "display_name": "Python 3 (ipykernel)",
   "language": "python",
   "name": "python3"
  },
  "language_info": {
   "codemirror_mode": {
    "name": "ipython",
    "version": 3
   },
   "file_extension": ".py",
   "mimetype": "text/x-python",
   "name": "python",
   "nbconvert_exporter": "python",
   "pygments_lexer": "ipython3",
   "version": "3.9.13"
  }
 },
 "nbformat": 4,
 "nbformat_minor": 5
}

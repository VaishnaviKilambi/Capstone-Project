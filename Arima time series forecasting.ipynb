{
 "cells": [
  {
   "cell_type": "code",
   "execution_count": 1,
   "id": "f9dadb9c",
   "metadata": {},
   "outputs": [],
   "source": [
    "import pandas as pd\n",
    "import numpy as np\n",
    "import matplotlib.pyplot as plt\n",
    "import statsmodels.api as sm\n",
    "from statsmodels.tsa.arima.model import ARIMA"
   ]
  },
  {
   "cell_type": "code",
   "execution_count": 2,
   "id": "9a1da2f8",
   "metadata": {},
   "outputs": [
    {
     "name": "stdout",
     "output_type": "stream",
     "text": [
      "<class 'pandas.core.frame.DataFrame'>\n",
      "RangeIndex: 13650723 entries, 0 to 13650722\n",
      "Data columns (total 10 columns):\n",
      " #   Column             Dtype\n",
      "---  ------             -----\n",
      " 0   day                int64\n",
      " 1   item_id            int64\n",
      " 2   warehouse_id       int64\n",
      " 3   warehouse_city_id  int64\n",
      " 4   total_begin_qty    int64\n",
      " 5   total_end_qty      int64\n",
      " 6   Replen_in_qty      int64\n",
      " 7   transfer_in_qty    int64\n",
      " 8   sale_out_qty       int64\n",
      " 9   transfer_out_qty   int64\n",
      "dtypes: int64(10)\n",
      "memory usage: 1.0 GB\n"
     ]
    }
   ],
   "source": [
    "inventory = pd.read_csv(\"msom_inventory_data.csv\", names = ('day','item_id','warehouse_id','warehouse_city_id','total_begin_qty','total_end_qty','Replen_in_qty','transfer_in_qty','sale_out_qty','transfer_out_qty'))\n",
    "inventory.info()"
   ]
  },
  {
   "cell_type": "code",
   "execution_count": 3,
   "id": "72a37048",
   "metadata": {},
   "outputs": [
    {
     "name": "stdout",
     "output_type": "stream",
     "text": [
      "<class 'pandas.core.frame.DataFrame'>\n",
      "RangeIndex: 13650723 entries, 0 to 13650722\n",
      "Data columns (total 10 columns):\n",
      " #   Column             Dtype\n",
      "---  ------             -----\n",
      " 0   day                int64\n",
      " 1   item_id            int64\n",
      " 2   warehouse_id       int64\n",
      " 3   warehouse_city_id  int64\n",
      " 4   total_begin_qty    int64\n",
      " 5   total_end_qty      int64\n",
      " 6   Replen_in_qty      int64\n",
      " 7   transfer_in_qty    int64\n",
      " 8   sale_out_qty       int64\n",
      " 9   transfer_out_qty   int64\n",
      "dtypes: int64(10)\n",
      "memory usage: 1.0 GB\n"
     ]
    }
   ],
   "source": [
    "inventory.info()"
   ]
  },
  {
   "cell_type": "code",
   "execution_count": 4,
   "id": "3af3b060",
   "metadata": {},
   "outputs": [],
   "source": [
    "#What could be a better way of inventory allocation to improve customer satisfaction? "
   ]
  },
  {
   "cell_type": "markdown",
   "id": "1f607bcb",
   "metadata": {},
   "source": [
    "inventory\n",
    "#total_begin_qty: This column represents the total quantity of a particular item that is present in the warehouse at the beginning of a specific time period, such as a day, week, or month.\n",
    "\n",
    "total_end_qty: This column represents the total quantity of the item that is present in the warehouse at the end of the same time period as total_begin_qty.\n",
    "\n",
    "replen_in_qty: This column represents the quantity of the item that is replenished or restocked in the warehouse during the time period.\n",
    "\n",
    "transfer_in_qty: This column represents the quantity of the item that is transferred into the warehouse from another location or warehouse during the time period.\n",
    "\n",
    "sale_out_qty: This column represents the quantity of the item that is sold or shipped out of the warehouse to customers or other locations during the time period.\n",
    "\n",
    "transfer_out_qty: This column represents the quantity of the item that is transferred out of the warehouse to another location or warehouse during the time period."
   ]
  },
  {
   "cell_type": "code",
   "execution_count": 5,
   "id": "3742567f",
   "metadata": {},
   "outputs": [],
   "source": [
    "#timeseries on inventory"
   ]
  },
  {
   "cell_type": "code",
   "execution_count": 6,
   "id": "ac52c01d",
   "metadata": {
    "scrolled": true
   },
   "outputs": [
    {
     "data": {
      "text/html": [
       "<div>\n",
       "<style scoped>\n",
       "    .dataframe tbody tr th:only-of-type {\n",
       "        vertical-align: middle;\n",
       "    }\n",
       "\n",
       "    .dataframe tbody tr th {\n",
       "        vertical-align: top;\n",
       "    }\n",
       "\n",
       "    .dataframe thead th {\n",
       "        text-align: right;\n",
       "    }\n",
       "</style>\n",
       "<table border=\"1\" class=\"dataframe\">\n",
       "  <thead>\n",
       "    <tr style=\"text-align: right;\">\n",
       "      <th></th>\n",
       "      <th>day</th>\n",
       "      <th>item_id</th>\n",
       "      <th>warehouse_id</th>\n",
       "      <th>warehouse_city_id</th>\n",
       "      <th>total_begin_qty</th>\n",
       "      <th>total_end_qty</th>\n",
       "      <th>Replen_in_qty</th>\n",
       "      <th>transfer_in_qty</th>\n",
       "      <th>sale_out_qty</th>\n",
       "      <th>transfer_out_qty</th>\n",
       "    </tr>\n",
       "  </thead>\n",
       "  <tbody>\n",
       "    <tr>\n",
       "      <th>0</th>\n",
       "      <td>20170605</td>\n",
       "      <td>34474</td>\n",
       "      <td>88</td>\n",
       "      <td>108</td>\n",
       "      <td>0</td>\n",
       "      <td>0</td>\n",
       "      <td>0</td>\n",
       "      <td>0</td>\n",
       "      <td>0</td>\n",
       "      <td>0</td>\n",
       "    </tr>\n",
       "    <tr>\n",
       "      <th>1</th>\n",
       "      <td>20170426</td>\n",
       "      <td>34474</td>\n",
       "      <td>88</td>\n",
       "      <td>108</td>\n",
       "      <td>0</td>\n",
       "      <td>0</td>\n",
       "      <td>0</td>\n",
       "      <td>0</td>\n",
       "      <td>0</td>\n",
       "      <td>0</td>\n",
       "    </tr>\n",
       "    <tr>\n",
       "      <th>2</th>\n",
       "      <td>20170414</td>\n",
       "      <td>34474</td>\n",
       "      <td>88</td>\n",
       "      <td>108</td>\n",
       "      <td>0</td>\n",
       "      <td>0</td>\n",
       "      <td>0</td>\n",
       "      <td>0</td>\n",
       "      <td>0</td>\n",
       "      <td>0</td>\n",
       "    </tr>\n",
       "    <tr>\n",
       "      <th>3</th>\n",
       "      <td>20170427</td>\n",
       "      <td>34474</td>\n",
       "      <td>88</td>\n",
       "      <td>108</td>\n",
       "      <td>0</td>\n",
       "      <td>0</td>\n",
       "      <td>0</td>\n",
       "      <td>0</td>\n",
       "      <td>0</td>\n",
       "      <td>0</td>\n",
       "    </tr>\n",
       "    <tr>\n",
       "      <th>4</th>\n",
       "      <td>20170425</td>\n",
       "      <td>34474</td>\n",
       "      <td>88</td>\n",
       "      <td>108</td>\n",
       "      <td>0</td>\n",
       "      <td>0</td>\n",
       "      <td>0</td>\n",
       "      <td>0</td>\n",
       "      <td>0</td>\n",
       "      <td>0</td>\n",
       "    </tr>\n",
       "  </tbody>\n",
       "</table>\n",
       "</div>"
      ],
      "text/plain": [
       "        day  item_id  warehouse_id  warehouse_city_id  total_begin_qty  \\\n",
       "0  20170605    34474            88                108                0   \n",
       "1  20170426    34474            88                108                0   \n",
       "2  20170414    34474            88                108                0   \n",
       "3  20170427    34474            88                108                0   \n",
       "4  20170425    34474            88                108                0   \n",
       "\n",
       "   total_end_qty  Replen_in_qty  transfer_in_qty  sale_out_qty  \\\n",
       "0              0              0                0             0   \n",
       "1              0              0                0             0   \n",
       "2              0              0                0             0   \n",
       "3              0              0                0             0   \n",
       "4              0              0                0             0   \n",
       "\n",
       "   transfer_out_qty  \n",
       "0                 0  \n",
       "1                 0  \n",
       "2                 0  \n",
       "3                 0  \n",
       "4                 0  "
      ]
     },
     "execution_count": 6,
     "metadata": {},
     "output_type": "execute_result"
    }
   ],
   "source": [
    "inventory.head()"
   ]
  },
  {
   "cell_type": "code",
   "execution_count": 7,
   "id": "8a7e3f60",
   "metadata": {
    "scrolled": true
   },
   "outputs": [
    {
     "name": "stdout",
     "output_type": "stream",
     "text": [
      "<class 'pandas.core.frame.DataFrame'>\n",
      "RangeIndex: 13650723 entries, 0 to 13650722\n",
      "Data columns (total 10 columns):\n",
      " #   Column             Dtype\n",
      "---  ------             -----\n",
      " 0   day                int64\n",
      " 1   item_id            int64\n",
      " 2   warehouse_id       int64\n",
      " 3   warehouse_city_id  int64\n",
      " 4   total_begin_qty    int64\n",
      " 5   total_end_qty      int64\n",
      " 6   Replen_in_qty      int64\n",
      " 7   transfer_in_qty    int64\n",
      " 8   sale_out_qty       int64\n",
      " 9   transfer_out_qty   int64\n",
      "dtypes: int64(10)\n",
      "memory usage: 1.0 GB\n"
     ]
    }
   ],
   "source": [
    "inventory.info()"
   ]
  },
  {
   "cell_type": "code",
   "execution_count": 8,
   "id": "0521fb70",
   "metadata": {},
   "outputs": [],
   "source": [
    "inventory['day'] = pd.to_datetime(inventory['day'], format='%Y%m%d')"
   ]
  },
  {
   "cell_type": "code",
   "execution_count": 9,
   "id": "05412e90",
   "metadata": {},
   "outputs": [],
   "source": [
    "#ARIMA"
   ]
  },
  {
   "cell_type": "code",
   "execution_count": null,
   "id": "8598ae3e",
   "metadata": {},
   "outputs": [],
   "source": [
    "df = inventory\n",
    "#df = df[['day','total_end_qty','Replen_in_qty']]\n",
    "df = df[['Replen_in_qty']]\n",
    "print(df.head())\n",
    "X = df.iloc[:, :].values\n",
    "\n",
    "size = int(len(X) * 0.66)\n",
    "train, test = X[0:size], X[size:len(X)]\n",
    "history = [x for x in train]\n",
    "predictions = list()\n",
    "\n",
    "for t in range(len(test)):\n",
    "    model = ARIMA(history, order=(0,1,0))\n",
    "    model_fit = model.fit(disp=0)\n",
    "    output = model_fit.forecast()\n",
    "    yhat = output[0]\n",
    "    predictions.append(yhat)\n",
    "    obs = test[t]\n",
    "    history.append(obs)\n",
    "    print('predicted=%f, expected=%f' % (yhat, obs))\n",
    "\n",
    "#error = mean_squared_error(test, predictions)\n",
    "#print('Test MSE: %.3f' % error)\n"
   ]
  },
  {
   "cell_type": "code",
   "execution_count": null,
   "id": "14d8b5ac",
   "metadata": {},
   "outputs": [
    {
     "name": "stdout",
     "output_type": "stream",
     "text": [
      "RUNNING THE L-BFGS-B CODE\n",
      "\n",
      "           * * *\n",
      "\n",
      "Machine precision = 2.220D-16\n",
      " N =            3     M =           10\n",
      "\n",
      "At X0         0 variables are exactly at the bounds\n",
      "\n",
      "At iterate    0    f=  5.95852D+00    |proj g|=  1.02838D-01\n"
     ]
    },
    {
     "name": "stderr",
     "output_type": "stream",
     "text": [
      " This problem is unconstrained.\n"
     ]
    },
    {
     "name": "stdout",
     "output_type": "stream",
     "text": [
      "\n",
      "At iterate    5    f=  5.91621D+00    |proj g|=  1.06797D-02\n",
      "\n",
      "At iterate   10    f=  5.90375D+00    |proj g|=  8.57917D-04\n",
      "\n",
      "At iterate   15    f=  5.90352D+00    |proj g|=  3.05619D-05\n",
      "\n",
      "           * * *\n",
      "\n",
      "Tit   = total number of iterations\n",
      "Tnf   = total number of function evaluations\n",
      "Tnint = total number of segments explored during Cauchy searches\n",
      "Skip  = number of BFGS updates skipped\n",
      "Nact  = number of active bounds at final generalized Cauchy point\n",
      "Projg = norm of the final projected gradient\n",
      "F     = final function value\n",
      "\n",
      "           * * *\n",
      "\n",
      "   N    Tit     Tnf  Tnint  Skip  Nact     Projg        F\n",
      "    3     16     20      1     0     0   3.274D-07   5.904D+00\n",
      "  F =   5.9035198027677342     \n",
      "\n",
      "CONVERGENCE: NORM_OF_PROJECTED_GRADIENT_<=_PGTOL            \n"
     ]
    }
   ],
   "source": [
    "import pandas as pd\n",
    "import statsmodels.api as sm\n",
    "\n",
    "# Select the Replen_in_qty column as the endogenous variable\n",
    "endog = inventory['Replen_in_qty']\n",
    "\n",
    "# Fit a SARIMAX model to the data\n",
    "model = sm.tsa.SARIMAX(endog=endog, order=(1,1,1), seasonal_order=(0,0,0,0))\n",
    "results = model.fit()\n",
    "\n",
    "# Print the model summary\n",
    "print(results.summary())"
   ]
  },
  {
   "cell_type": "code",
   "execution_count": null,
   "id": "33eecea4",
   "metadata": {},
   "outputs": [],
   "source": [
    "# from statsmodels.tsa.stattools import adfuller\n",
    "\n",
    "# def adfuller_test(Replen_in_qty):\n",
    "#     result = adfuller(Replen_in_qty)\n",
    "#     labels = ['ADF Test Statistic', 'p-value', '#Lags Used', 'Number of Observations']\n",
    "#     for value, label in zip(result, labels):\n",
    "#         print(label + ': ' + str(value))\n",
    "\n",
    "#     if result[1] <= 0.05:\n",
    "#         print(\"Strong evidence against the null hypothesis (Ho), reject the null hypothesis. Data is stationary.\")\n",
    "#     else:\n",
    "#         print(\"Weak evidence against null hypothesis, indicating it is non-stationary.\")\n",
    "\n",
    "\n",
    "# adfuller_test(inventory)"
   ]
  },
  {
   "cell_type": "code",
   "execution_count": null,
   "id": "464dabc5",
   "metadata": {},
   "outputs": [],
   "source": []
  },
  {
   "cell_type": "code",
   "execution_count": null,
   "id": "81b4bee2",
   "metadata": {},
   "outputs": [],
   "source": [
    "# from statsmodels.tsa.stattools import adfuller  \n",
    "# from numpy import log  \n",
    "# import pandas as pd  \n",
    "# res = adfuller( inventory_train.value.dropna())  \n",
    "# print('Augmented Dickey-Fuller Statistic: %f' % res[0])  \n",
    "# print('p-value: %f' % res[1])"
   ]
  },
  {
   "cell_type": "code",
   "execution_count": null,
   "id": "aa5fe99e",
   "metadata": {},
   "outputs": [],
   "source": [
    "# model = ARIMA(inventory, order=(1,1,1))\n",
    "# results = model.fit()"
   ]
  },
  {
   "cell_type": "code",
   "execution_count": null,
   "id": "d2bcbf85",
   "metadata": {},
   "outputs": [],
   "source": [
    "# inventory_train = inventory[inventory['day'].dt.month < 3]\n",
    "# inventory_test = inventory[inventory['day'].dt.month >= 5]\n",
    "\n",
    "# print(inventory_train.shape, inventory_test.shape)"
   ]
  },
  {
   "cell_type": "code",
   "execution_count": null,
   "id": "19d635a0",
   "metadata": {},
   "outputs": [],
   "source": [
    "# time_period = list(range(len(inventory_train)))\n",
    "\n",
    "# inventory_train_lm = inventory_train.copy()\n",
    "# inventory_train_lm['TimePeriod'] = time_period\n",
    "# inventory_train_lm.tail()"
   ]
  },
  {
   "cell_type": "code",
   "execution_count": null,
   "id": "ce69fd4f",
   "metadata": {
    "scrolled": true
   },
   "outputs": [],
   "source": [
    "# import statsmodels.formula.api as smf\n",
    "\n",
    "# lm = smf.ols(formula='total_begin_qty ~ day', data=inventory_train_lm).fit()\n",
    "\n",
    "# print(lm.summary())"
   ]
  }
 ],
 "metadata": {
  "kernelspec": {
   "display_name": "Python 3 (ipykernel)",
   "language": "python",
   "name": "python3"
  },
  "language_info": {
   "codemirror_mode": {
    "name": "ipython",
    "version": 3
   },
   "file_extension": ".py",
   "mimetype": "text/x-python",
   "name": "python",
   "nbconvert_exporter": "python",
   "pygments_lexer": "ipython3",
   "version": "3.9.13"
  }
 },
 "nbformat": 4,
 "nbformat_minor": 5
}
